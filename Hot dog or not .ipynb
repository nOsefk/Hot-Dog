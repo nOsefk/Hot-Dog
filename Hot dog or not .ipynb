{
 "cells": [
  {
   "cell_type": "markdown",
   "metadata": {},
   "source": [
    "# Hot dog or not \n",
    "##  Description\n",
    "\n",
    "The HBO show Silicon Valley released a real AI app that identifies hotdogs — and not hotdogs — like the one shown on season 4’s 4th episode (the app is now available on Android as well as iOS!)\n",
    "\n",
    "Build your own version of the SeeFood App from the TV show Silicon Valley. Whether you've seen the show or not, you should watch a refresher on how it works. While the use-case is farcical, the app is an approachable example of both deep learning, and edge computing.\n",
    "\n",
    "\n",
    "![](https://miro.medium.com/max/2400/1*FZSvtomVWXV6hQp1Mkdk3A.png)\n",
    "\n",
    "\n",
    "## Your task:\n",
    "\n",
    "1. Train your algorithm on these files and predict the labels (1 = not_hot_dog, 0 = hot_dog).\n",
    "2. Deploy your model in herroku ! The user must have the possibility to upload a photo to test the model.\n",
    "\n",
    "##  Dataset \n",
    "````\n",
    "./dataset/\n",
    "----> train/\n",
    "--------> hot_dog/\n",
    "               image1\n",
    "               image2\n",
    "               .\n",
    "               .\n",
    "--------> not_hot_dog/\n",
    "               image1\n",
    "               image2\n",
    "               .\n",
    "               .\n",
    "----> test/\n",
    "--------> hot_dog/\n",
    "               image1\n",
    "               image2\n",
    "               .\n",
    "               .\n",
    "--------> not_hot_dog/\n",
    "               image1\n",
    "               image2\n",
    "               .\n",
    "           .\n",
    "````\n",
    "\n",
    "To load the dataset uses ImageDataGenerator : \n",
    "https://keras.io/preprocessing/image/"
   ]
  },
  {
   "cell_type": "code",
   "execution_count": null,
   "metadata": {},
   "outputs": [],
   "source": []
  }
 ],
 "metadata": {
  "kernelspec": {
   "display_name": "Python 3",
   "language": "python",
   "name": "python3"
  },
  "language_info": {
   "codemirror_mode": {
    "name": "ipython",
    "version": 3
   },
   "file_extension": ".py",
   "mimetype": "text/x-python",
   "name": "python",
   "nbconvert_exporter": "python",
   "pygments_lexer": "ipython3",
   "version": "3.7.3"
  }
 },
 "nbformat": 4,
 "nbformat_minor": 2
}
